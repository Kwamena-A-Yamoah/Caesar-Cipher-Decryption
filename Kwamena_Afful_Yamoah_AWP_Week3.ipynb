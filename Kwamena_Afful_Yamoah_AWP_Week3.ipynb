{
 "cells": [
  {
   "cell_type": "code",
   "execution_count": null,
   "id": "fde28123-e8e5-42eb-b033-bf23d0a2fd61",
   "metadata": {
    "tags": []
   },
   "outputs": [
    {
     "name": "stdout",
     "output_type": "stream",
     "text": [
      "\n",
      "    Enter 1: To Decipher\n",
      "    Enter 2: To Encrypt\n",
      "    \n"
     ]
    },
    {
     "name": "stdout",
     "output_type": "stream",
     "text": [
      "Please Select an Option Above:  2\n",
      "Plaintext:  THE QUICK BROWN FOX JUMPS OVER THE LAZY DOG\n"
     ]
    },
    {
     "name": "stdout",
     "output_type": "stream",
     "text": [
      "Ciphertext: QEB NRFZH YOLTK CLU GRJMP LSBO QEB IXWV ALD\n"
     ]
    }
   ],
   "source": [
    "def encryption():\n",
    "    print('''\n",
    "    Enter 1: To Decipher\n",
    "    Enter 2: To Encrypt\n",
    "    ''')\n",
    "    \n",
    "    # Taking in user input\n",
    "    userinput = int(input(\"Please Select an Option Above: \"))\n",
    "\n",
    "\n",
    "\n",
    "    # Initiating formula for the ciphering and deciphering\n",
    "        # We list the alphabet in upper and lower case\n",
    "    alphabet_lower = \"abcdefghijklmnopqrstuvwxyz\"\n",
    "    alphabet_upper = alphabet_lower.upper()\n",
    "\n",
    "    #Creating an empty string\n",
    "    cipher = \"\"\n",
    "\n",
    "\n",
    "                        #Encrypt\n",
    "    # 2) This option ciphers an input into an Encryption\n",
    "    if userinput == 2:\n",
    "        plain_text = input(\"Plaintext: \")\n",
    "\n",
    "        # Creating the cipher alphabet using the for loop\n",
    "        for char in alphabet_lower:\n",
    "            char_ind = alphabet_lower.index(char) - 3\n",
    "            char_ciph = alphabet_lower[char_ind]\n",
    "            cipher += char_ciph\n",
    "\n",
    "        # Creating an empty string\n",
    "        ciph_word = \"\"\n",
    "\n",
    "        # Writing a for loop to iterate through the characters in the string\n",
    "        for alph in plain_text:\n",
    "\n",
    "            # Checking if the character is an alphabet\n",
    "            if alph.isalpha():\n",
    "\n",
    "                # Checking if the element is in lower case\n",
    "                if alph == alph.lower():\n",
    "\n",
    "                    #This is where we encrypt the characters for lower case\n",
    "                    alph_index = alphabet_lower.index(alph)\n",
    "                    alph_ciph = cipher[alph_index]\n",
    "                    ciph_word += alph_ciph\n",
    "\n",
    "                # Checking if the character is in upper case\n",
    "                elif alph == alph.upper():\n",
    "                    #This is where we encrypt the characters for upper case\n",
    "                    alph_index = alphabet_upper.index(alph)\n",
    "                    alph_ciph = cipher[alph_index]\n",
    "                    ciph_word += alph_ciph.upper()\n",
    "\n",
    "            # If the character is not an alphabet\n",
    "            else:\n",
    "                ciph_word += alph\n",
    "\n",
    "\n",
    "        #Printing out the Ciphertext\n",
    "        print(\"Ciphertext:\", ciph_word)\n",
    "\n",
    "\n",
    "                # DECRIPT\n",
    "    # 1) This option Deciphers an input into Plaintext\n",
    "    elif userinput == 1:\n",
    "        cipher_text = input(\"Ciphertext: \")\n",
    "\n",
    "        for char in alphabet_lower:\n",
    "            char_ind = alphabet_lower.index(char) - 23\n",
    "            char_ciph = alphabet_lower[char_ind]\n",
    "            cipher += char_ciph\n",
    "\n",
    "        # Creating an empty string\n",
    "        plain_text = \"\"\n",
    "\n",
    "        # Writing a for loop to iterate through the characters in the string\n",
    "        for alph in cipher_text:\n",
    "\n",
    "            # Checking if the character is an alphabet\n",
    "            if alph.isalpha():\n",
    "\n",
    "                # Checking if the element is in lower case\n",
    "                if alph == alph.lower():\n",
    "\n",
    "                    #This is where we encrypt the characters for lower case\n",
    "                    alph_index = alphabet_lower.index(alph)\n",
    "                    alph_ciph = cipher[alph_index]\n",
    "                    plain_text += alph_ciph\n",
    "\n",
    "                # Checking if the character is in upper case\n",
    "                elif alph == alph.upper():\n",
    "                    #This is where we encrypt the characters for upper case\n",
    "                    alph_index = alphabet_upper.index(alph)\n",
    "                    alph_ciph = cipher[alph_index]\n",
    "                    plain_text += alph_ciph.upper()\n",
    "\n",
    "            # If the character is not an alphabet\n",
    "            else:\n",
    "                plain_text += alph\n",
    "\n",
    "\n",
    "        #Printing out the Plaintext\n",
    "        print(\"Plaintext:\", plain_text)\n",
    "\n",
    "    else:\n",
    "        print(\"Your Entered an Incorrect Inumber\")\n",
    "        \n",
    "encryption()"
   ]
  },
  {
   "cell_type": "markdown",
   "id": "f1f0b089",
   "metadata": {},
   "source": []
  },
  {
   "cell_type": "code",
   "execution_count": null,
   "id": "ff1c82ea",
   "metadata": {},
   "outputs": [],
   "source": []
  },
  {
   "cell_type": "code",
   "execution_count": null,
   "id": "58825af3",
   "metadata": {},
   "outputs": [],
   "source": []
  }
 ],
 "metadata": {
  "kernelspec": {
   "display_name": "Python 3 (ipykernel)",
   "language": "python",
   "name": "python3"
  },
  "language_info": {
   "codemirror_mode": {
    "name": "ipython",
    "version": 3
   },
   "file_extension": ".py",
   "mimetype": "text/x-python",
   "name": "python",
   "nbconvert_exporter": "python",
   "pygments_lexer": "ipython3",
   "version": "3.11.5"
  }
 },
 "nbformat": 4,
 "nbformat_minor": 5
}
